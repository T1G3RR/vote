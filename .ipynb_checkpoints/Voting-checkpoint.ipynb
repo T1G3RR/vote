{
 "cells": [
  {
   "cell_type": "code",
   "execution_count": 4,
   "id": "ac3787a9-ce8d-40ed-ac1f-63ae41b15e63",
   "metadata": {},
   "outputs": [
    {
     "name": "stdin",
     "output_type": "stream",
     "text": [
      "Please enter your name: Tan\n",
      "Please enter your age: 11\n"
     ]
    },
    {
     "name": "stdout",
     "output_type": "stream",
     "text": [
      "You have 7 years until you can vote\n"
     ]
    }
   ],
   "source": [
    "name = input(\"Please enter your name:\")\n",
    "name = str(name)\n",
    "age = input(\"Please enter your age:\")\n",
    "age = int(age)\n",
    "if age >= 18:\n",
    "    print(\"Congrats\", name, \"! You are the Legal Voting Age!\")\n",
    "else:\n",
    "    print(\"You have\", 18-age, \"years until you can vote\")"
   ]
  },
  {
   "cell_type": "code",
   "execution_count": null,
   "id": "5532800f-0905-422a-86b3-f5e1c26da8f9",
   "metadata": {},
   "outputs": [],
   "source": []
  }
 ],
 "metadata": {
  "kernelspec": {
   "display_name": "Python 3 (ipykernel)",
   "language": "python",
   "name": "python3"
  },
  "language_info": {
   "codemirror_mode": {
    "name": "ipython",
    "version": 3
   },
   "file_extension": ".py",
   "mimetype": "text/x-python",
   "name": "python",
   "nbconvert_exporter": "python",
   "pygments_lexer": "ipython3",
   "version": "3.12.4"
  }
 },
 "nbformat": 4,
 "nbformat_minor": 5
}
